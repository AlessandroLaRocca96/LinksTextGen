{
  "nbformat": 4,
  "nbformat_minor": 0,
  "metadata": {
    "colab": {
      "name": "Check_identical_sentences.ipynb",
      "provenance": [],
      "collapsed_sections": []
    },
    "kernelspec": {
      "name": "python3",
      "display_name": "Python 3"
    },
    "language_info": {
      "name": "python"
    }
  },
  "cells": [
    {
      "cell_type": "code",
      "metadata": {
        "id": "WvFTXdGieh1H"
      },
      "source": [
        "with open(\"furniture_train.txt\", \"r\") as file_train: \n",
        "    lines_train = file_train.readlines()\n",
        "\n",
        "with open(\"model_output_furniture.txt\", \"r\") as file_output: \n",
        "    lines_output = file_output.readlines()\n",
        "\n",
        "for sentence_to_check in lines_output:\n",
        "  if sentence_to_check in lines_train:\n",
        "    print('Found an identical sentence : ')\n",
        "    print(sentence_to_check)"
      ],
      "execution_count": null,
      "outputs": []
    }
  ]
}